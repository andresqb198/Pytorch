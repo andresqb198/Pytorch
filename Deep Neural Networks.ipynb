{
 "cells": [
  {
   "cell_type": "markdown",
   "id": "66744478-3bd8-4ac4-bc76-70fb5cd309b4",
   "metadata": {},
   "source": [
    "# Training Deep Neural Networks on a GPU"
   ]
  },
  {
   "cell_type": "markdown",
   "id": "f5a38224-d27e-40e7-b961-04c88bf88fad",
   "metadata": {},
   "source": [
    "## Preparing Data"
   ]
  },
  {
   "cell_type": "code",
   "execution_count": 1,
   "id": "3b724ab3-e137-4478-8a78-112c168df95c",
   "metadata": {},
   "outputs": [],
   "source": [
    "import torch\n",
    "import numpy as np\n",
    "import torchvision\n",
    "from torchvision.datasets import MNIST\n",
    "from torchvision.transforms import ToTensor\n",
    "from torch.utils.data.sampler import SubsetRandomSampler\n",
    "from torch.utils.data.dataloader import DataLoader\n",
    "import matplotlib.pyplot as plt"
   ]
  },
  {
   "cell_type": "code",
   "execution_count": 13,
   "id": "068772ff-3f34-4161-9700-0e2acb287e0f",
   "metadata": {},
   "outputs": [],
   "source": [
    "dataset = MNIST(root='./data',\n",
    "               download=False,\n",
    "               transform=ToTensor())"
   ]
  },
  {
   "cell_type": "code",
   "execution_count": 14,
   "id": "4d1b1614-731e-4422-a03b-756ea7c5df62",
   "metadata": {},
   "outputs": [
    {
     "data": {
      "text/plain": [
       "<matplotlib.image.AxesImage at 0x7f7abddcedc0>"
      ]
     },
     "execution_count": 14,
     "metadata": {},
     "output_type": "execute_result"
    },
    {
     "data": {
      "image/png": "[encoded data removed]",
      "text/plain": [
       "<Figure size 432x288 with 1 Axes>"
      ]
     },
     "metadata": {
      "needs_background": "light"
     },
     "output_type": "display_data"
    }
   ],
   "source": [
    "plt.imshow(dataset.data[0])"
   ]
  },
  {
   "cell_type": "code",
   "execution_count": 15,
   "id": "894ca205-6792-4450-9e4a-05489b3a63bc",
   "metadata": {},
   "outputs": [],
   "source": [
    "# FUnction that randomly picks a given fraction of the images for the validation set\n",
    "def split_indices(n, val_pct):\n",
    "    #Determine size of validation set\n",
    "    n_val = int(val_pct*n)\n",
    "    #Create random permutation of 0 to n-1\n",
    "    idxs = np.random. permutation(n)\n",
    "    #Pick first n_val indices for validation set\n",
    "    return idxs[n_val:], idxs[:n_val]"
   ]
  },
  {
   "cell_type": "code",
   "execution_count": 16,
   "id": "b954b1cd-57ad-4e5e-b59d-ec03f13813af",
   "metadata": {},
   "outputs": [
    {
     "name": "stdout",
     "output_type": "stream",
     "text": [
      "48000 12000\n",
      "Sample val indices  [24933 11995 21589 56375 13335 41421 44722 41682 36772 41604 30676 24773\n",
      "  9105 22967 19199 25438  2508 33804 39895 17861]\n"
     ]
    }
   ],
   "source": [
    "train_indices, val_indices = split_indices(len(dataset),val_pct=0.2)\n",
    "print(len(train_indices),len(val_indices))\n",
    "print('Sample val indices ', val_indices[:20])"
   ]
  },
  {
   "cell_type": "code",
   "execution_count": 86,
   "id": "320ab21e-c1ea-4c1d-b9ba-2cf331066abf",
   "metadata": {},
   "outputs": [],
   "source": [
    "batch_size = 100\n",
    "\n",
    "#Training sampler and data loader\n",
    "train_sampler = SubsetRandomSampler(train_indices)\n",
    "train_dl = DataLoader(dataset,\n",
    "                          batch_size,\n",
    "                          sampler=train_sampler\n",
    ")\n",
    "\n",
    "#Validation sampler and data loader\n",
    "val_sampler = SubsetRandomSampler(val_indices)\n",
    "valid_dl = DataLoader(dataset,\n",
    "                       batch_size,\n",
    "                       sampler=val_sampler)"
   ]
  },
  {
   "cell_type": "markdown",
   "id": "ae11f961-5953-4129-b872-24583a53c0c7",
   "metadata": {},
   "source": [
    "## Model"
   ]
  },
  {
   "cell_type": "code",
   "execution_count": 35,
   "id": "9465221a-a226-409d-81a6-fdc8ba9de6f6",
   "metadata": {},
   "outputs": [],
   "source": [
    "import torch.nn as nn\n",
    "\n",
    "\n",
    "input_size = 28*28\n",
    "num_classes = 10\n",
    "\n",
    "#Logistic regression model\n",
    "model = nn.Linear(input_size,num_classes)"
   ]
  },
  {
   "cell_type": "code",
   "execution_count": 36,
   "id": "5d162bb5-0ff2-4efe-ad5c-3c13a77a3823",
   "metadata": {},
   "outputs": [],
   "source": [
    "import torch.nn.functional as F\n",
    "import torch.nn as nn"
   ]
  },
  {
   "cell_type": "code",
   "execution_count": 37,
   "id": "24f3184d-caab-42ee-8851-689827a3c8e5",
   "metadata": {},
   "outputs": [],
   "source": [
    "class MnistModel(nn.Module):\n",
    "    \"\"\"Feedfoward neuaral network with 1 hidden layer\"\"\"\n",
    "    def __init__(self, in_size, hidden_size,out_size):\n",
    "        super().__init__()\n",
    "        #hidden layer\n",
    "        self.linear1 = nn.Linear(in_size,hidden_size)\n",
    "        #output layer\n",
    "        self.linear2 = nn.Linear(hidden_size,out_size)\n",
    "        \n",
    "    def forward(self, xb):\n",
    "        #Flatten the image tensors\n",
    "        xb = xb.view(xb.size(0),-1)\n",
    "        #Get the intermediate outputs using hidden layer\n",
    "        out = self.linear1(xb)\n",
    "        #Apply the activation function\n",
    "        out = F.relu(out)\n",
    "        #Get predictions using output layer\n",
    "        out = self.linear2(out)\n",
    "        return out\n"
   ]
  },
  {
   "cell_type": "code",
   "execution_count": 38,
   "id": "6ba2ce39-f958-4e8e-b9fd-e1109e67c5dc",
   "metadata": {},
   "outputs": [],
   "source": [
    "input_size = 784\n",
    "num_classes = 10\n",
    "\n",
    "model = MnistModel(input_size,hidden_size=32,\n",
    "                   out_size=num_classes)"
   ]
  },
  {
   "cell_type": "markdown",
   "id": "68c18d4a-6bb5-4c8b-ac34-e6fbad488360",
   "metadata": {},
   "source": [
    "Model parameters"
   ]
  },
  {
   "cell_type": "code",
   "execution_count": 39,
   "id": "06f8ea0a-7ccc-427c-981a-7d8f324d9ed7",
   "metadata": {},
   "outputs": [
    {
     "name": "stdout",
     "output_type": "stream",
     "text": [
      "torch.Size([32, 784])\n",
      "torch.Size([32])\n",
      "torch.Size([10, 32])\n",
      "torch.Size([10])\n"
     ]
    }
   ],
   "source": [
    "for t in model.parameters():\n",
    "    print(t.shape)"
   ]
  },
  {
   "cell_type": "code",
   "execution_count": 40,
   "id": "037c7bc8-080f-4981-bcf2-168aa60bea19",
   "metadata": {},
   "outputs": [
    {
     "name": "stdout",
     "output_type": "stream",
     "text": [
      "Images.shape torch.Size([100, 1, 28, 28])\n",
      "Loss:  2.30692195892334\n",
      "Output.shape:  torch.Size([100, 10])\n",
      "Sample Outputs:\n",
      " tensor([[-0.2306,  0.1421,  0.1584, -0.2860, -0.1022, -0.1719, -0.0225, -0.2390,\n",
      "         -0.1212,  0.1950],\n",
      "        [-0.1900,  0.0724,  0.1927, -0.1816, -0.0510, -0.1439,  0.0377, -0.2474,\n",
      "         -0.0970,  0.1953]])\n"
     ]
    }
   ],
   "source": [
    "for images, labels in train_loader:\n",
    "    print('Images.shape',images.shape)\n",
    "    outputs = model(images)\n",
    "    loss = F.cross_entropy(outputs,labels)\n",
    "    print('Loss: ', loss.item())\n",
    "    break\n",
    "\n",
    "print('Output.shape: ', outputs.shape)\n",
    "print('Sample Outputs:\\n', outputs[:2].data)"
   ]
  },
  {
   "cell_type": "markdown",
   "id": "ad967433-eb11-40d0-b136-424cc8ba257f",
   "metadata": {},
   "source": [
    "## Using GPU"
   ]
  },
  {
   "cell_type": "code",
   "execution_count": 41,
   "id": "e5517780-d19a-465b-aa84-24ecd7c6c94b",
   "metadata": {},
   "outputs": [
    {
     "data": {
      "text/plain": [
       "False"
      ]
     },
     "execution_count": 41,
     "metadata": {},
     "output_type": "execute_result"
    }
   ],
   "source": [
    "torch.cuda.is_available()"
   ]
  },
  {
   "cell_type": "code",
   "execution_count": 42,
   "id": "098279b7-6060-4f53-8d00-cb40b8a22a8b",
   "metadata": {},
   "outputs": [],
   "source": [
    "def get_default_device():\n",
    "    \"\"\"Pick GPU if available, else CPU\"\"\"\n",
    "    if torch.cuda.is_available():\n",
    "        return torch.device('cuda')\n",
    "    else:\n",
    "        return torch.device('cpu')"
   ]
  },
  {
   "cell_type": "code",
   "execution_count": 43,
   "id": "ecdb727b-a918-43e6-82b1-fe34fde57e48",
   "metadata": {},
   "outputs": [
    {
     "data": {
      "text/plain": [
       "device(type='cpu')"
      ]
     },
     "execution_count": 43,
     "metadata": {},
     "output_type": "execute_result"
    }
   ],
   "source": [
    "device = get_default_device()\n",
    "device"
   ]
  },
  {
   "cell_type": "markdown",
   "id": "9d2fcadf-5053-42be-a80d-0eb5a157d8fb",
   "metadata": {},
   "source": [
    "Function that can move data and model to a chosen device"
   ]
  },
  {
   "cell_type": "code",
   "execution_count": 44,
   "id": "2cd3e333-b86a-43d1-bbe7-fd3f91d98acf",
   "metadata": {},
   "outputs": [],
   "source": [
    "def to_device(data, device):\n",
    "    \"\"\"Move tensor(s) to chosen device\"\"\"\n",
    "    if isinstance(data, (list,tuple)):\n",
    "        return [to_device(x,device) for x in data]\n",
    "    return data.to(device,non_blocking=True)"
   ]
  },
  {
   "cell_type": "code",
   "execution_count": 45,
   "id": "a6fca748-14f0-47dd-862e-b3f2e16cffde",
   "metadata": {},
   "outputs": [
    {
     "data": {
      "text/plain": [
       "[tensor([1, 2, 3, 4]), tensor([1, 2, 3, 4])]"
      ]
     },
     "execution_count": 45,
     "metadata": {},
     "output_type": "execute_result"
    }
   ],
   "source": [
    "to_device([torch.tensor([1,2,3,4]),torch.tensor([1,2,3,4])],device)"
   ]
  },
  {
   "cell_type": "code",
   "execution_count": 47,
   "id": "1dd54d9e-7313-4c51-9a4d-6e03beb2cbc8",
   "metadata": {},
   "outputs": [
    {
     "name": "stdout",
     "output_type": "stream",
     "text": [
      "torch.Size([100, 1, 28, 28])\n",
      "cpu\n"
     ]
    }
   ],
   "source": [
    "for images, labels in train_dl:\n",
    "    print(images.shape)\n",
    "    images = to_device(images, device)\n",
    "    print(images.device)\n",
    "    break"
   ]
  },
  {
   "cell_type": "code",
   "execution_count": 48,
   "id": "95fce342-2335-42da-9c73-f05bff5cda23",
   "metadata": {},
   "outputs": [],
   "source": [
    "class DeviceDataLoader():\n",
    "    \"\"\"Wrap a dataloader to move data to a device\"\"\"\n",
    "    def __init__(self, dataloader,device):\n",
    "        self.dataloader = dataloader\n",
    "        self.device = device\n",
    "    \n",
    "    def __iter__(self):\n",
    "        \"\"\"Yield a batch of data after moving it to a device\"\"\"\n",
    "        for batch  in self.dataloader:\n",
    "            yield to_device(batch,self.device)\n",
    "    \n",
    "    \n",
    "    def __len__(self):\n",
    "        \"\"\"Number of batches\"\"\"\n",
    "        return len(self.dataloader)"
   ]
  },
  {
   "cell_type": "code",
   "execution_count": 51,
   "id": "0eeadddd-4763-4f38-8d8a-703f1da11921",
   "metadata": {},
   "outputs": [],
   "source": [
    "train_dl = DeviceDataLoader(train_dl,device)\n",
    "valid_dl = DeviceDataLoader(valid_dl,device)"
   ]
  },
  {
   "cell_type": "code",
   "execution_count": 53,
   "id": "f55e3543-ab5d-4cb7-9f23-23bc48e750f4",
   "metadata": {},
   "outputs": [
    {
     "name": "stdout",
     "output_type": "stream",
     "text": [
      "xb.device: cpu\n",
      "yb: tensor([3, 8, 8, 5, 8, 8, 3, 5, 9, 2, 5, 4, 4, 4, 7, 9, 1, 8, 8, 3, 4, 1, 4, 0,\n",
      "        3, 6, 1, 0, 3, 8, 1, 0, 8, 5, 5, 2, 1, 5, 7, 6, 1, 2, 1, 1, 1, 5, 2, 4,\n",
      "        9, 3, 7, 6, 1, 6, 7, 4, 4, 4, 2, 3, 2, 3, 9, 6, 1, 4, 1, 7, 3, 8, 6, 7,\n",
      "        7, 9, 2, 0, 4, 7, 3, 7, 4, 7, 1, 2, 1, 4, 1, 1, 2, 1, 7, 5, 7, 7, 4, 1,\n",
      "        5, 6, 9, 7])\n"
     ]
    }
   ],
   "source": [
    "for xb, yb in valid_dl:\n",
    "    print('xb.device:',xb.device)\n",
    "    print('yb:',yb)\n",
    "    break"
   ]
  },
  {
   "cell_type": "markdown",
   "id": "9f719f30-c3d1-462f-80d9-b2a4d4a1ff33",
   "metadata": {},
   "source": [
    "## Training the model"
   ]
  },
  {
   "cell_type": "code",
   "execution_count": 109,
   "id": "c6063eb3-bed3-4f8d-bfb6-c16a32f7c736",
   "metadata": {},
   "outputs": [],
   "source": [
    "def loss_batch(model, loss_func, xb, yb, opt=None, metric=None):\n",
    "    #Calculate loss\n",
    "    preds = model(xb)\n",
    "    loss = loss_func(preds,yb)\n",
    "    \n",
    "    if opt is not None:\n",
    "        #Compute gradients\n",
    "        loss.backward()\n",
    "        #Update parameters\n",
    "        opt.step()\n",
    "        #Reset gradients\n",
    "        opt.zero_grad()\n",
    "        \n",
    "    metric_result = None\n",
    "    if metric is not None:\n",
    "        #Compute the metric\n",
    "        metric_result = metric(preds,yb)\n",
    "    \n",
    "    return loss.item(), len(xb), metric_result"
   ]
  },
  {
   "cell_type": "code",
   "execution_count": 110,
   "id": "da8b8a53-bdfe-4100-a01a-e119d96ce0f4",
   "metadata": {},
   "outputs": [],
   "source": [
    "def evaluate(model, loss_fn, valid_dl, metric=None):\n",
    "    with torch.no_grad():\n",
    "        #Pass each batch throuh the model\n",
    "        \n",
    "        results = [loss_batch(model,loss_fn,xb,yb,metric=metric) for xb,yb in valid_dl]\n",
    "        #Separate losses, count and metrics\n",
    "        losses, nums, metrics = zip(*results)\n",
    "        #Total size of the dataset\n",
    "        total = np.sum(nums)\n",
    "        #Avg. loss across batches\n",
    "        avg_loss = np.sum(np.multiply(losses,nums)) / total\n",
    "        avg_metric = None\n",
    "        if metric is not None:\n",
    "            #Avg. of metric across batches\n",
    "            avg_metric = np.sum(np.multiply(metrics,nums)) / total\n",
    "        return avg_loss, total, avg_metric"
   ]
  },
  {
   "cell_type": "code",
   "execution_count": 111,
   "id": "0a4f7231-58a2-460f-8ed4-c65adb9fde1d",
   "metadata": {},
   "outputs": [],
   "source": [
    "def fit(epochs,lr,model,loss_fn,train_dl,\n",
    "        valid_dl,metric=None, opt_fn=None):\n",
    "    losses,metrics = [],[]\n",
    "    \n",
    "    #Instantiate the optimizer\n",
    "    if opt_fn is None: opt_fn = torch.optim.SGD\n",
    "    opt = opt_fn(model.parameters(),lr)\n",
    "    \n",
    "    for epoch in range(epochs):\n",
    "        #Training\n",
    "        for xb,yb in train_dl:\n",
    "            loss_batch(model,loss_fn,xb,yb,opt)\n",
    "            \n",
    "        #Evaluation\n",
    "        result = evaluate(model,loss_fn,valid_dl,metric)\n",
    "        val_loss, total, val_metric = result\n",
    "        \n",
    "        #Record the loss & metric\n",
    "        losses.append(val_loss)\n",
    "        metrics.append(val_metric)\n",
    "        \n",
    "        #Print progress\n",
    "        if metric is None:\n",
    "            print('Epoch [{}/{}], Loss: {:.4f}'\n",
    "                 .format(epoch+1,epochs,val_loss))\n",
    "        else:\n",
    "            print('Epoch [{}/{}], Loss: {:.4f}, {}: {:.4f}'\n",
    "                 .format(epoch+1,epochs,val_loss,metric.__name__,val_metric))\n",
    "    \n",
    "    return losses, metrics"
   ]
  },
  {
   "cell_type": "code",
   "execution_count": 112,
   "id": "f81c8c7a-cde5-4d57-93bd-ba93107089b0",
   "metadata": {},
   "outputs": [],
   "source": [
    "def accuracy(outputs,labels):\n",
    "    _, preds =torch.max(outputs,dim=1)\n",
    "    return torch.sum(preds==labels).item() / len(preds)"
   ]
  },
  {
   "cell_type": "code",
   "execution_count": 113,
   "id": "81732c29-31bc-4916-9614-630d1730fc3c",
   "metadata": {},
   "outputs": [
    {
     "data": {
      "text/plain": [
       "MnistModel(\n",
       "  (linear1): Linear(in_features=784, out_features=32, bias=True)\n",
       "  (linear2): Linear(in_features=32, out_features=10, bias=True)\n",
       ")"
      ]
     },
     "execution_count": 113,
     "metadata": {},
     "output_type": "execute_result"
    }
   ],
   "source": [
    "#Model on GPU\n",
    "model = MnistModel(input_size,hidden_size=32,out_size=num_classes)\n",
    "to_device(model,device)"
   ]
  },
  {
   "cell_type": "code",
   "execution_count": 114,
   "id": "4a0f30ab-776b-43ce-8106-d1362e66afe1",
   "metadata": {},
   "outputs": [
    {
     "name": "stdout",
     "output_type": "stream",
     "text": [
      "Loss: 2.3155, Accuracy:.0.1057\n"
     ]
    }
   ],
   "source": [
    "val_loss, total, val_acc = evaluate(model, F.cross_entropy,\n",
    "                                   valid_dl, metric=accuracy)\n",
    "print('Loss: {:.4f}, Accuracy:.{:.4f}'.format(val_loss,val_acc))"
   ]
  },
  {
   "cell_type": "code",
   "execution_count": 118,
   "id": "da1a5d09-22de-4afb-a51d-932664cf128b",
   "metadata": {},
   "outputs": [
    {
     "name": "stdout",
     "output_type": "stream",
     "text": [
      "Epoch [1/5], Loss: 0.1294, accuracy: 0.9611\n",
      "Epoch [2/5], Loss: 0.1237, accuracy: 0.9641\n",
      "Epoch [3/5], Loss: 0.1404, accuracy: 0.9599\n",
      "Epoch [4/5], Loss: 0.1454, accuracy: 0.9573\n",
      "Epoch [5/5], Loss: 0.1201, accuracy: 0.9653\n"
     ]
    }
   ],
   "source": [
    "losses1, metrics1 = fit(epochs=5,lr=0.5,model=model,loss_fn=F.cross_entropy,\n",
    "                        train_dl=train_dl,valid_dl=valid_dl,metric=accuracy)"
   ]
  },
  {
   "cell_type": "code",
   "execution_count": 119,
   "id": "683f42f5-53e0-43aa-a195-49e9b136425e",
   "metadata": {},
   "outputs": [
    {
     "name": "stdout",
     "output_type": "stream",
     "text": [
      "Epoch [1/5], Loss: 0.1066, accuracy: 0.9686\n",
      "Epoch [2/5], Loss: 0.1070, accuracy: 0.9690\n",
      "Epoch [3/5], Loss: 0.1061, accuracy: 0.9694\n",
      "Epoch [4/5], Loss: 0.1068, accuracy: 0.9688\n",
      "Epoch [5/5], Loss: 0.1065, accuracy: 0.9688\n"
     ]
    }
   ],
   "source": [
    "losses2, metrics2 = fit(epochs=5,lr=0.1,model=model,loss_fn=F.cross_entropy,\n",
    "                        train_dl=train_dl,valid_dl=valid_dl,metric=accuracy)"
   ]
  },
  {
   "cell_type": "code",
   "execution_count": 120,
   "id": "0d489dd1-dfa0-43b0-a9d7-b1f196a6ad48",
   "metadata": {},
   "outputs": [],
   "source": [
    "import matplotlib.pyplot as plt"
   ]
  },
  {
   "cell_type": "code",
   "execution_count": 122,
   "id": "48c603ff-87da-4f63-aad8-63d737ad5849",
   "metadata": {},
   "outputs": [
    {
     "data": {
      "text/plain": [
       "Text(0.5, 1.0, 'Accuracy vs No of epochs')"
      ]
     },
     "execution_count": 122,
     "metadata": {},
     "output_type": "execute_result"
    },
    {
     "data": {
      "image/png": "[encoded data removed]",
      "text/plain": [
       "<Figure size 432x288 with 1 Axes>"
      ]
     },
     "metadata": {
      "needs_background": "light"
     },
     "output_type": "display_data"
    }
   ],
   "source": [
    "accuracies = [val_acc]+ metrics1+metrics2\n",
    "plt.plot(accuracies,'-x')\n",
    "plt.xlabel('epoch')\n",
    "plt.ylabel('accuracy')\n",
    "plt.title('Accuracy vs No of epochs')"
   ]
  },
  {
   "cell_type": "code",
   "execution_count": null,
   "id": "989a7730-73f4-4455-b68b-ccae3c7c2c12",
   "metadata": {},
   "outputs": [],
   "source": []
  }
 ],
 "metadata": {
  "kernelspec": {
   "display_name": "Python 3",
   "language": "python",
   "name": "python3"
  },
  "language_info": {
   "codemirror_mode": {
    "name": "ipython",
    "version": 3
   },
   "file_extension": ".py",
   "mimetype": "text/x-python",
   "name": "python",
   "nbconvert_exporter": "python",
   "pygments_lexer": "ipython3",
   "version": "3.8.8"
  }
 },
 "nbformat": 4,
 "nbformat_minor": 5
}
