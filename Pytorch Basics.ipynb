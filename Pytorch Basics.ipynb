{
 "cells": [
  {
   "cell_type": "code",
   "execution_count": 8,
   "id": "2f80c72c-79aa-4563-a096-62809e48efae",
   "metadata": {},
   "outputs": [],
   "source": [
    "import torch"
   ]
  },
  {
   "cell_type": "markdown",
   "id": "837a0a71-92b2-4f40-b567-427de4e6c85e",
   "metadata": {},
   "source": [
    "# Tensors definition"
   ]
  },
  {
   "cell_type": "code",
   "execution_count": 9,
   "id": "ac4620fe-9cc6-4a85-bba0-1529c3b1468a",
   "metadata": {},
   "outputs": [
    {
     "data": {
      "text/plain": [
       "tensor(4.)"
      ]
     },
     "execution_count": 9,
     "metadata": {},
     "output_type": "execute_result"
    }
   ],
   "source": [
    "#NUmber\n",
    "t1 = torch.tensor(4.)\n",
    "t1"
   ]
  },
  {
   "cell_type": "code",
   "execution_count": 10,
   "id": "d52f40b3-7425-481d-8c94-3528a7837777",
   "metadata": {},
   "outputs": [
    {
     "data": {
      "text/plain": [
       "torch.float32"
      ]
     },
     "execution_count": 10,
     "metadata": {},
     "output_type": "execute_result"
    }
   ],
   "source": [
    "t1.dtype"
   ]
  },
  {
   "cell_type": "code",
   "execution_count": 11,
   "id": "b8b07f5e-b5d9-4c25-8d28-41e37cbdee11",
   "metadata": {},
   "outputs": [
    {
     "data": {
      "text/plain": [
       "tensor([2., 4., 5., 6.])"
      ]
     },
     "execution_count": 11,
     "metadata": {},
     "output_type": "execute_result"
    }
   ],
   "source": [
    "#Vector\n",
    "t2 = torch.tensor([2,4.,5,6])\n",
    "t2"
   ]
  },
  {
   "cell_type": "code",
   "execution_count": 12,
   "id": "3ce44181-4273-4255-b9d3-35cf857f0d6d",
   "metadata": {},
   "outputs": [
    {
     "data": {
      "text/plain": [
       "tensor([[5, 6],\n",
       "        [7, 8],\n",
       "        [8, 9]])"
      ]
     },
     "execution_count": 12,
     "metadata": {},
     "output_type": "execute_result"
    }
   ],
   "source": [
    "#matrix\n",
    "t3 = torch.tensor([[5,6],[7,8],[8,9]])\n",
    "t3"
   ]
  },
  {
   "cell_type": "code",
   "execution_count": 13,
   "id": "c4a73707-c30e-4e08-9e0c-fb46e801f2b3",
   "metadata": {},
   "outputs": [
    {
     "data": {
      "text/plain": [
       "tensor([[[11, 12, 13],\n",
       "         [13, 14, 15]],\n",
       "\n",
       "        [[15, 16, 17],\n",
       "         [17, 18, 19]]])"
      ]
     },
     "execution_count": 13,
     "metadata": {},
     "output_type": "execute_result"
    }
   ],
   "source": [
    "# 3-dimensional array\n",
    "t4 = torch.tensor([\n",
    "    [[11,12,13],\n",
    "    [13,14,15]],\n",
    "    [\n",
    "        [15,16,17],\n",
    "        [17,18,19]\n",
    "    ]\n",
    "])\n",
    "t4"
   ]
  },
  {
   "cell_type": "code",
   "execution_count": 14,
   "id": "2880fb7c-fa2c-471a-adab-75719ce8ac87",
   "metadata": {},
   "outputs": [
    {
     "data": {
      "text/plain": [
       "torch.Size([])"
      ]
     },
     "execution_count": 14,
     "metadata": {},
     "output_type": "execute_result"
    }
   ],
   "source": [
    "t1.shape"
   ]
  },
  {
   "cell_type": "code",
   "execution_count": 15,
   "id": "b8dba7c3-0a47-4fe2-96ec-17183491d908",
   "metadata": {},
   "outputs": [
    {
     "data": {
      "text/plain": [
       "torch.Size([4])"
      ]
     },
     "execution_count": 15,
     "metadata": {},
     "output_type": "execute_result"
    }
   ],
   "source": [
    "t2.shape"
   ]
  },
  {
   "cell_type": "code",
   "execution_count": 16,
   "id": "bdcc7d83-62f2-49f5-b10c-05dba809e982",
   "metadata": {},
   "outputs": [
    {
     "data": {
      "text/plain": [
       "torch.Size([3, 2])"
      ]
     },
     "execution_count": 16,
     "metadata": {},
     "output_type": "execute_result"
    }
   ],
   "source": [
    "t3.shape"
   ]
  },
  {
   "cell_type": "code",
   "execution_count": 17,
   "id": "fb0284f8-e72c-483a-84fa-96bb3abe6450",
   "metadata": {},
   "outputs": [
    {
     "data": {
      "text/plain": [
       "torch.Size([2, 2, 3])"
      ]
     },
     "execution_count": 17,
     "metadata": {},
     "output_type": "execute_result"
    }
   ],
   "source": [
    "t4.shape"
   ]
  },
  {
   "cell_type": "markdown",
   "id": "e7db3780-41bd-4b32-8407-61bde23cff07",
   "metadata": {},
   "source": [
    "# Tensors Operations and Gradients"
   ]
  },
  {
   "cell_type": "code",
   "execution_count": 18,
   "id": "a71e6a16-9e07-44b7-9bdd-bd6eef1cba03",
   "metadata": {},
   "outputs": [],
   "source": [
    "#Create  tensors\n",
    "x = torch.tensor(3.)\n",
    "w = torch.tensor(4., requires_grad=True)\n",
    "b = torch.tensor(5., requires_grad=True)"
   ]
  },
  {
   "cell_type": "code",
   "execution_count": 19,
   "id": "edd99ff2-d6da-49ec-8393-71d06b539ffc",
   "metadata": {},
   "outputs": [
    {
     "data": {
      "text/plain": [
       "tensor(17., grad_fn=<AddBackward0>)"
      ]
     },
     "execution_count": 19,
     "metadata": {},
     "output_type": "execute_result"
    }
   ],
   "source": [
    "#Arithmetic Operations\n",
    "y = w*x+b\n",
    "y"
   ]
  },
  {
   "cell_type": "code",
   "execution_count": 20,
   "id": "ca98ea95-0da9-4492-b1ad-ddd4ccc8bef6",
   "metadata": {},
   "outputs": [],
   "source": [
    "#Compute derivatives\n",
    "y.backward()"
   ]
  },
  {
   "cell_type": "code",
   "execution_count": 21,
   "id": "2334a4d7-c969-44b6-a71c-048abc3944bf",
   "metadata": {},
   "outputs": [
    {
     "name": "stdout",
     "output_type": "stream",
     "text": [
      "dy/dx: None\n",
      "dy/dw: tensor(3.)\n",
      "dy/db: tensor(1.)\n"
     ]
    }
   ],
   "source": [
    "#Display Gradients\n",
    "print('dy/dx:',x.grad)\n",
    "print('dy/dw:',w.grad)\n",
    "print('dy/db:',b.grad)"
   ]
  },
  {
   "cell_type": "markdown",
   "id": "b64add32-7a6d-477f-b7b9-9330f628a1de",
   "metadata": {},
   "source": [
    "# Interoperability with Numpy"
   ]
  },
  {
   "cell_type": "code",
   "execution_count": 22,
   "id": "d5e74357-f562-4acd-b5f4-2db50bc738e8",
   "metadata": {},
   "outputs": [
    {
     "data": {
      "text/plain": [
       "array([[1., 2.],\n",
       "       [3., 4.]])"
      ]
     },
     "execution_count": 22,
     "metadata": {},
     "output_type": "execute_result"
    }
   ],
   "source": [
    "import numpy as np\n",
    "\n",
    "x = np.array([[1,2],[3,4.]])\n",
    "x"
   ]
  },
  {
   "cell_type": "code",
   "execution_count": 23,
   "id": "eba10a8c-5e52-40bf-8a0c-1d739301091b",
   "metadata": {},
   "outputs": [
    {
     "data": {
      "text/plain": [
       "tensor([[1., 2.],\n",
       "        [3., 4.]], dtype=torch.float64)"
      ]
     },
     "execution_count": 23,
     "metadata": {},
     "output_type": "execute_result"
    }
   ],
   "source": [
    "y = torch.from_numpy(x)\n",
    "y"
   ]
  },
  {
   "cell_type": "code",
   "execution_count": 24,
   "id": "c013a120-7064-4bd7-9061-34747cb388b1",
   "metadata": {},
   "outputs": [
    {
     "data": {
      "text/plain": [
       "(dtype('float64'), torch.float64)"
      ]
     },
     "execution_count": 24,
     "metadata": {},
     "output_type": "execute_result"
    }
   ],
   "source": [
    "x. dtype, y.dtype"
   ]
  },
  {
   "cell_type": "code",
   "execution_count": 25,
   "id": "c6d631a2-f3a6-44f8-a74c-f5bcd06e3378",
   "metadata": {},
   "outputs": [
    {
     "data": {
      "text/plain": [
       "array([[1., 2.],\n",
       "       [3., 4.]])"
      ]
     },
     "execution_count": 25,
     "metadata": {},
     "output_type": "execute_result"
    }
   ],
   "source": [
    "#Convert a torch tensor to a numpy array\n",
    "z = y.numpy()\n",
    "z"
   ]
  },
  {
   "cell_type": "markdown",
   "id": "a55d9a63-0ae6-42fc-a643-f8f97392886a",
   "metadata": {},
   "source": [
    "# Linear Regression"
   ]
  },
  {
   "cell_type": "code",
   "execution_count": 26,
   "id": "b3cd42b8-417e-4145-a843-c8cbee15456f",
   "metadata": {},
   "outputs": [],
   "source": [
    "import numpy as np\n",
    "import torch"
   ]
  },
  {
   "cell_type": "code",
   "execution_count": 27,
   "id": "5be45e05-f89b-4a54-90ce-60c36142e909",
   "metadata": {},
   "outputs": [],
   "source": [
    "#IMput (temp, rainfall, humidity)\n",
    "inputs = np.array([[73, 67, 43], \n",
    "                   [91, 88, 64], \n",
    "                   [87, 134, 58], \n",
    "                   [102, 43, 37], \n",
    "                   [69, 96, 70]], dtype='float32')"
   ]
  },
  {
   "cell_type": "code",
   "execution_count": 28,
   "id": "e9e3bced-d0cc-4bd5-a18e-f858fc1c1767",
   "metadata": {},
   "outputs": [],
   "source": [
    "# Targets (apples, oranges)\n",
    "targets = np.array([[56, 70], \n",
    "                    [81, 101], \n",
    "                    [119, 133], \n",
    "                    [22, 37], \n",
    "                    [103, 119]], dtype='float32')"
   ]
  },
  {
   "cell_type": "code",
   "execution_count": 29,
   "id": "ea63d55f-0d3f-4cd5-9c79-506bac1541f4",
   "metadata": {},
   "outputs": [
    {
     "name": "stdout",
     "output_type": "stream",
     "text": [
      "tensor([[ 73.,  67.,  43.],\n",
      "        [ 91.,  88.,  64.],\n",
      "        [ 87., 134.,  58.],\n",
      "        [102.,  43.,  37.],\n",
      "        [ 69.,  96.,  70.]])\n",
      "tensor([[ 56.,  70.],\n",
      "        [ 81., 101.],\n",
      "        [119., 133.],\n",
      "        [ 22.,  37.],\n",
      "        [103., 119.]])\n"
     ]
    }
   ],
   "source": [
    "# Convert inputs and targets to tensors\n",
    "inputs = torch.from_numpy(inputs)\n",
    "targets = torch.from_numpy(targets)\n",
    "print(inputs)\n",
    "print(targets)"
   ]
  },
  {
   "cell_type": "markdown",
   "id": "c8f0f4df-ab63-43bc-9135-e9c10bc7bab7",
   "metadata": {},
   "source": [
    "# Model from scratch"
   ]
  },
  {
   "cell_type": "code",
   "execution_count": 30,
   "id": "087bb2bf-23e0-4907-b72d-cba182411f9e",
   "metadata": {},
   "outputs": [
    {
     "name": "stdout",
     "output_type": "stream",
     "text": [
      "tensor([[-0.1979,  2.1955, -0.7276],\n",
      "        [-1.5900, -0.6219, -1.9094]], requires_grad=True)\n",
      "tensor([ 0.9541, -0.4886], requires_grad=True)\n"
     ]
    }
   ],
   "source": [
    "# Weigths and biases\n",
    "w = torch.randn(2,3,requires_grad=True)\n",
    "b = torch.randn(2,requires_grad=True)\n",
    "print(w)\n",
    "print(b)"
   ]
  },
  {
   "cell_type": "code",
   "execution_count": 31,
   "id": "f813405c-e45e-4432-bc1e-2f5c943d4ca1",
   "metadata": {},
   "outputs": [],
   "source": [
    "def model(x):\n",
    "    return x @ w.t() + b"
   ]
  },
  {
   "cell_type": "code",
   "execution_count": 32,
   "id": "fdc42f2f-fa15-4a6d-8d44-e4497e96f6a9",
   "metadata": {},
   "outputs": [
    {
     "name": "stdout",
     "output_type": "stream",
     "text": [
      "tensor([[ 102.3200, -240.3293],\n",
      "        [ 129.5838, -322.1062],\n",
      "        [ 235.7354, -332.8960],\n",
      "        [  48.2538, -260.0582],\n",
      "        [ 147.1361, -303.5574]], grad_fn=<AddBackward0>)\n"
     ]
    }
   ],
   "source": [
    "# Generate predictions\n",
    "preds = model(inputs)\n",
    "print(preds)"
   ]
  },
  {
   "cell_type": "code",
   "execution_count": 33,
   "id": "00f990c8-1623-4256-8fec-3b13a394ae94",
   "metadata": {},
   "outputs": [
    {
     "name": "stdout",
     "output_type": "stream",
     "text": [
      "tensor([[ 56.,  70.],\n",
      "        [ 81., 101.],\n",
      "        [119., 133.],\n",
      "        [ 22.,  37.],\n",
      "        [103., 119.]])\n"
     ]
    }
   ],
   "source": [
    "# Compare with targets\n",
    "print(targets)"
   ]
  },
  {
   "cell_type": "markdown",
   "id": "471f4bfd-cbdb-4285-984c-0e4b78b4c099",
   "metadata": {},
   "source": [
    "# Loss function"
   ]
  },
  {
   "cell_type": "code",
   "execution_count": 34,
   "id": "d4888fb5-5f87-4123-9dc5-5de843661f54",
   "metadata": {},
   "outputs": [],
   "source": [
    "## MSE Loss\n",
    "def mse(preds,targets):\n",
    "    diff = preds-targets\n",
    "    return torch.sum(diff*diff) / diff.numel()"
   ]
  },
  {
   "cell_type": "code",
   "execution_count": 35,
   "id": "8f4c7bc7-6a99-4598-be62-cc23b331ecde",
   "metadata": {},
   "outputs": [
    {
     "name": "stdout",
     "output_type": "stream",
     "text": [
      "tensor(77995.0859, grad_fn=<DivBackward0>)\n"
     ]
    }
   ],
   "source": [
    "# Compute loss\n",
    "loss = mse(preds,targets)\n",
    "print(loss)"
   ]
  },
  {
   "cell_type": "markdown",
   "id": "71a881c8-aae8-4cef-b031-8fa7585fb5ae",
   "metadata": {},
   "source": [
    "## Compute gradients"
   ]
  },
  {
   "cell_type": "code",
   "execution_count": 36,
   "id": "43701446-6786-4c95-9cb4-4e1fcbe70fec",
   "metadata": {},
   "outputs": [],
   "source": [
    "# Compute gradients\n",
    "loss.backward()"
   ]
  },
  {
   "cell_type": "code",
   "execution_count": 37,
   "id": "46a34839-8483-4ad1-a28e-e93296a404b9",
   "metadata": {},
   "outputs": [
    {
     "name": "stdout",
     "output_type": "stream",
     "text": [
      "tensor([[-0.1979,  2.1955, -0.7276],\n",
      "        [-1.5900, -0.6219, -1.9094]], requires_grad=True)\n",
      "tensor([[  4736.3486,   5677.4673,   3186.5386],\n",
      "        [-32229.2109, -34758.8984, -21603.0195]])\n"
     ]
    }
   ],
   "source": [
    "# Gradients for weights\n",
    "print(w)\n",
    "print(w.grad)"
   ]
  },
  {
   "cell_type": "code",
   "execution_count": 38,
   "id": "c492defb-a566-4f8e-b849-9860dfd67c7c",
   "metadata": {},
   "outputs": [
    {
     "name": "stdout",
     "output_type": "stream",
     "text": [
      "tensor([ 0.9541, -0.4886], requires_grad=True)\n",
      "tensor([  56.4058, -383.7894])\n"
     ]
    }
   ],
   "source": [
    "print(b)\n",
    "print(b.grad)"
   ]
  },
  {
   "cell_type": "code",
   "execution_count": 39,
   "id": "ac4f8a7e-0490-42d3-bab5-8b300c70c280",
   "metadata": {},
   "outputs": [
    {
     "name": "stdout",
     "output_type": "stream",
     "text": [
      "tensor([[0., 0., 0.],\n",
      "        [0., 0., 0.]])\n",
      "tensor([0., 0.])\n"
     ]
    }
   ],
   "source": [
    "w.grad.zero_()\n",
    "b.grad.zero_()\n",
    "print(w.grad)\n",
    "print(b.grad)"
   ]
  },
  {
   "cell_type": "markdown",
   "id": "8e8331d5-697a-482f-8db0-33f609984897",
   "metadata": {},
   "source": [
    "# Adjust weights and biases using gradient descent"
   ]
  },
  {
   "cell_type": "code",
   "execution_count": 40,
   "id": "7f1579a1-b390-4956-a832-9ad7e91ad7ab",
   "metadata": {},
   "outputs": [
    {
     "name": "stdout",
     "output_type": "stream",
     "text": [
      "tensor([[ 102.3200, -240.3293],\n",
      "        [ 129.5838, -322.1062],\n",
      "        [ 235.7354, -332.8960],\n",
      "        [  48.2538, -260.0582],\n",
      "        [ 147.1361, -303.5574]], grad_fn=<AddBackward0>)\n"
     ]
    }
   ],
   "source": [
    "# Generate predictions\n",
    "preds = model(inputs)\n",
    "print(preds)"
   ]
  },
  {
   "cell_type": "code",
   "execution_count": 41,
   "id": "ff4d223a-7870-465c-83e2-7d3917d38cf6",
   "metadata": {},
   "outputs": [
    {
     "name": "stdout",
     "output_type": "stream",
     "text": [
      "tensor(77995.0859, grad_fn=<DivBackward0>)\n"
     ]
    }
   ],
   "source": [
    "#Calculate the loss\n",
    "loss = mse(preds,targets)\n",
    "print(loss)"
   ]
  },
  {
   "cell_type": "code",
   "execution_count": 42,
   "id": "5fbcd3e7-ae01-4961-ab70-46c0ca9342ee",
   "metadata": {},
   "outputs": [
    {
     "name": "stdout",
     "output_type": "stream",
     "text": [
      "tensor([[  4736.3486,   5677.4673,   3186.5386],\n",
      "        [-32229.2109, -34758.8984, -21603.0195]])\n",
      "tensor([  56.4058, -383.7894])\n"
     ]
    }
   ],
   "source": [
    "#Cumpute gradients\n",
    "loss.backward()\n",
    "print(w.grad)\n",
    "print(b.grad)"
   ]
  },
  {
   "cell_type": "code",
   "execution_count": 43,
   "id": "a447e259-cb07-417c-9868-5fe16f9997ff",
   "metadata": {},
   "outputs": [],
   "source": [
    "# Adjust weights & reset gradients\n",
    "with torch.no_grad():\n",
    "    w -= w.grad*1e-5\n",
    "    b -= b.grad*1e-5\n",
    "    w.grad.zero_()\n",
    "    b.grad.zero_()"
   ]
  },
  {
   "cell_type": "code",
   "execution_count": 44,
   "id": "f9490f06-ebd4-4acc-b33d-16b4d4b82d21",
   "metadata": {},
   "outputs": [
    {
     "name": "stdout",
     "output_type": "stream",
     "text": [
      "tensor([[-0.2453,  2.1388, -0.7595],\n",
      "        [-1.2677, -0.2743, -1.6934]], requires_grad=True)\n",
      "tensor([ 0.9536, -0.4848], requires_grad=True)\n"
     ]
    }
   ],
   "source": [
    "print(w)\n",
    "print(b)"
   ]
  },
  {
   "cell_type": "code",
   "execution_count": 45,
   "id": "d0c9edc4-31a3-4a5f-9942-df26799684c0",
   "metadata": {},
   "outputs": [
    {
     "name": "stdout",
     "output_type": "stream",
     "text": [
      "tensor(52697.3828, grad_fn=<DivBackward0>)\n"
     ]
    }
   ],
   "source": [
    "#Calculate the loss\n",
    "preds = model(inputs)\n",
    "loss = mse(preds,targets)\n",
    "print(loss)"
   ]
  },
  {
   "cell_type": "code",
   "execution_count": 46,
   "id": "6faee7f5-21f3-4869-8ec6-d7e34efd97d6",
   "metadata": {},
   "outputs": [],
   "source": [
    "# Train for 100 mepochs\n",
    "for i in range(100):\n",
    "    preds = model(inputs)\n",
    "    loss = mse(preds,targets)\n",
    "    loss.backward()\n",
    "    with torch.no_grad():\n",
    "        w -= w.grad*1e-5\n",
    "        b -= b.grad*1e-5\n",
    "        w.grad.zero_()\n",
    "        b.grad.zero_()"
   ]
  },
  {
   "cell_type": "code",
   "execution_count": 47,
   "id": "e9e81d14-7ffb-4ef1-89e7-c90aae2a5931",
   "metadata": {},
   "outputs": [
    {
     "name": "stdout",
     "output_type": "stream",
     "text": [
      "tensor(284.2204, grad_fn=<DivBackward0>)\n"
     ]
    }
   ],
   "source": [
    "#Calculate the loss\n",
    "preds = model(inputs)\n",
    "loss = mse(preds,targets)\n",
    "print(loss)"
   ]
  },
  {
   "cell_type": "code",
   "execution_count": 48,
   "id": "2aa0990a-e114-4c2c-9dbb-31dbf6832008",
   "metadata": {},
   "outputs": [
    {
     "data": {
      "text/plain": [
       "tensor([[ 56.1160,  72.2515],\n",
       "        [ 68.9152,  90.2382],\n",
       "        [150.6123, 153.5596],\n",
       "        [ 12.7898,  47.5764],\n",
       "        [ 83.8238,  94.7345]], grad_fn=<AddBackward0>)"
      ]
     },
     "execution_count": 48,
     "metadata": {},
     "output_type": "execute_result"
    }
   ],
   "source": [
    "preds"
   ]
  },
  {
   "cell_type": "code",
   "execution_count": 49,
   "id": "07665764-e111-48c5-bfd3-8734317bdc3e",
   "metadata": {},
   "outputs": [
    {
     "data": {
      "text/plain": [
       "tensor([[ 56.,  70.],\n",
       "        [ 81., 101.],\n",
       "        [119., 133.],\n",
       "        [ 22.,  37.],\n",
       "        [103., 119.]])"
      ]
     },
     "execution_count": 49,
     "metadata": {},
     "output_type": "execute_result"
    }
   ],
   "source": [
    "targets"
   ]
  },
  {
   "cell_type": "markdown",
   "id": "1736aacb-b015-4ec8-8b98-9152f7acb27e",
   "metadata": {},
   "source": [
    "# Linear regression using Pytorch built-ins"
   ]
  },
  {
   "cell_type": "code",
   "execution_count": 50,
   "id": "054a5521-34ab-433b-a48a-5ad27850aaf9",
   "metadata": {},
   "outputs": [],
   "source": [
    "import torch.nn as nn"
   ]
  },
  {
   "cell_type": "code",
   "execution_count": 51,
   "id": "5555606e-c0d5-4e24-98c5-fc76695935b0",
   "metadata": {},
   "outputs": [],
   "source": [
    "# Input (temp, rainfall, humidity)\n",
    "inputs = np.array([[73, 67, 43], \n",
    "                   [91, 88, 64], \n",
    "                   [87, 134, 58], \n",
    "                   [102, 43, 37], \n",
    "                   [69, 96, 70], \n",
    "                   [74, 66, 43], \n",
    "                   [91, 87, 65], \n",
    "                   [88, 134, 59], \n",
    "                   [101, 44, 37], \n",
    "                   [68, 96, 71], \n",
    "                   [73, 66, 44], \n",
    "                   [92, 87, 64], \n",
    "                   [87, 135, 57], \n",
    "                   [103, 43, 36], \n",
    "                   [68, 97, 70]], \n",
    "                  dtype='float32')\n",
    "\n",
    "# Targets (apples, oranges)\n",
    "targets = np.array([[56, 70], \n",
    "                    [81, 101], \n",
    "                    [119, 133], \n",
    "                    [22, 37], \n",
    "                    [103, 119],\n",
    "                    [57, 69], \n",
    "                    [80, 102], \n",
    "                    [118, 132], \n",
    "                    [21, 38], \n",
    "                    [104, 118], \n",
    "                    [57, 69], \n",
    "                    [82, 100], \n",
    "                    [118, 134], \n",
    "                    [20, 38], \n",
    "                    [102, 120]], \n",
    "                   dtype='float32')"
   ]
  },
  {
   "cell_type": "code",
   "execution_count": 52,
   "id": "413c2df6-b9bf-441b-9407-100ace9a0a17",
   "metadata": {},
   "outputs": [],
   "source": [
    "inputs = torch.from_numpy(inputs)\n",
    "targets = torch.from_numpy(targets)"
   ]
  },
  {
   "cell_type": "markdown",
   "id": "87e1189e-8c1c-4856-a85d-1740db4aa339",
   "metadata": {},
   "source": [
    "## Dataset and DataLoader"
   ]
  },
  {
   "cell_type": "code",
   "execution_count": 53,
   "id": "ef3b656b-caa9-4897-8e20-ebe8c707e29c",
   "metadata": {},
   "outputs": [],
   "source": [
    "from torch.utils.data import TensorDataset"
   ]
  },
  {
   "cell_type": "code",
   "execution_count": 54,
   "id": "852084a3-ec28-43de-bd4d-5c3c40a737ad",
   "metadata": {},
   "outputs": [
    {
     "data": {
      "text/plain": [
       "(tensor([[ 73.,  67.,  43.],\n",
       "         [ 91.,  88.,  64.],\n",
       "         [ 87., 134.,  58.]]),\n",
       " tensor([[ 56.,  70.],\n",
       "         [ 81., 101.],\n",
       "         [119., 133.]]))"
      ]
     },
     "execution_count": 54,
     "metadata": {},
     "output_type": "execute_result"
    }
   ],
   "source": [
    "#Define dataset\n",
    "train_ds = TensorDataset(inputs,targets)\n",
    "train_ds[0:3]"
   ]
  },
  {
   "cell_type": "code",
   "execution_count": 55,
   "id": "c1c241bc-b24f-4b9f-b7e3-27efb8c4efb8",
   "metadata": {},
   "outputs": [],
   "source": [
    "from torch.utils.data import DataLoader"
   ]
  },
  {
   "cell_type": "code",
   "execution_count": 56,
   "id": "84040c69-bd07-45b1-b2c5-f099137ff1b4",
   "metadata": {},
   "outputs": [],
   "source": [
    "#Define data loader\n",
    "batch_size = 5\n",
    "train_dl = DataLoader(train_ds,batch_size,shuffle=True)"
   ]
  },
  {
   "cell_type": "code",
   "execution_count": 57,
   "id": "7d8ba125-98f5-4025-8bc0-14bc45af1ef9",
   "metadata": {},
   "outputs": [
    {
     "name": "stdout",
     "output_type": "stream",
     "text": [
      "tensor([[101.,  44.,  37.],\n",
      "        [ 87., 134.,  58.],\n",
      "        [103.,  43.,  36.],\n",
      "        [ 87., 135.,  57.],\n",
      "        [102.,  43.,  37.]])\n",
      "tensor([[ 21.,  38.],\n",
      "        [119., 133.],\n",
      "        [ 20.,  38.],\n",
      "        [118., 134.],\n",
      "        [ 22.,  37.]])\n"
     ]
    }
   ],
   "source": [
    "for xb,yb in train_dl:\n",
    "    print(xb)\n",
    "    print(yb)\n",
    "    break"
   ]
  },
  {
   "cell_type": "code",
   "execution_count": 59,
   "id": "874f7b45-618f-4fb5-ae66-04a1a2e5e6ab",
   "metadata": {},
   "outputs": [
    {
     "name": "stdout",
     "output_type": "stream",
     "text": [
      "Parameter containing:\n",
      "tensor([[-0.2467, -0.3208,  0.0877],\n",
      "        [ 0.1931, -0.2501, -0.2121]], requires_grad=True)\n",
      "Parameter containing:\n",
      "tensor([ 0.4751, -0.4026], requires_grad=True)\n"
     ]
    }
   ],
   "source": [
    "# Define model\n",
    "model = nn.Linear(3,2)\n",
    "print(model.weight)\n",
    "print(model.bias)"
   ]
  },
  {
   "cell_type": "code",
   "execution_count": 60,
   "id": "fed8acee-f1c3-4dcd-9a85-370ffbfdc34e",
   "metadata": {},
   "outputs": [
    {
     "data": {
      "text/plain": [
       "[Parameter containing:\n",
       " tensor([[-0.2467, -0.3208,  0.0877],\n",
       "         [ 0.1931, -0.2501, -0.2121]], requires_grad=True),\n",
       " Parameter containing:\n",
       " tensor([ 0.4751, -0.4026], requires_grad=True)]"
      ]
     },
     "execution_count": 60,
     "metadata": {},
     "output_type": "execute_result"
    }
   ],
   "source": [
    "#Parameters\n",
    "list(model.parameters())"
   ]
  },
  {
   "cell_type": "code",
   "execution_count": 61,
   "id": "19246e2a-14c8-402e-91d1-06e9bd42361f",
   "metadata": {},
   "outputs": [
    {
     "data": {
      "text/plain": [
       "tensor([[-35.2562, -12.1792],\n",
       "        [-44.5919, -18.4082],\n",
       "        [-58.8899, -29.4139],\n",
       "        [-35.2358,   0.6972],\n",
       "        [-41.2057, -25.9307],\n",
       "        [-35.1820, -11.7359],\n",
       "        [-44.1834, -18.3701],\n",
       "        [-59.0488, -29.4328],\n",
       "        [-35.3099,   0.2540],\n",
       "        [-40.8713, -26.3359],\n",
       "        [-34.8477, -12.1411],\n",
       "        [-44.5178, -17.9649],\n",
       "        [-59.2984, -29.4520],\n",
       "        [-35.5701,   1.1024],\n",
       "        [-41.2799, -26.3740]], grad_fn=<AddmmBackward0>)"
      ]
     },
     "execution_count": 61,
     "metadata": {},
     "output_type": "execute_result"
    }
   ],
   "source": [
    "#Generate predictions\n",
    "preds = model(inputs)\n",
    "preds"
   ]
  },
  {
   "cell_type": "markdown",
   "id": "db9debfe-206b-4c57-9859-aa4a87620885",
   "metadata": {},
   "source": [
    "## Loss function"
   ]
  },
  {
   "cell_type": "code",
   "execution_count": 62,
   "id": "a52c650a-246f-4bb2-a3ff-b11cb83997b9",
   "metadata": {},
   "outputs": [],
   "source": [
    "#Import nn.functional\n",
    "import torch.nn.functional as F"
   ]
  },
  {
   "cell_type": "code",
   "execution_count": 63,
   "id": "fecdb7f4-20ff-483d-bcbf-d4bb3630ab73",
   "metadata": {},
   "outputs": [],
   "source": [
    "#Define loss function\n",
    "loss_fn = F.mse_loss"
   ]
  },
  {
   "cell_type": "code",
   "execution_count": 64,
   "id": "f57ff413-eac4-4e69-b8e1-ab9f870e5879",
   "metadata": {},
   "outputs": [
    {
     "name": "stdout",
     "output_type": "stream",
     "text": [
      "tensor(14925.8896, grad_fn=<MseLossBackward0>)\n"
     ]
    }
   ],
   "source": [
    "loss = loss_fn(model(inputs),targets)\n",
    "print(loss)"
   ]
  },
  {
   "cell_type": "raw",
   "id": "6b7c1d11-b969-4d85-94e3-974f6838760b",
   "metadata": {},
   "source": [
    "#Documentation\n",
    "?F.mse_loss"
   ]
  },
  {
   "cell_type": "markdown",
   "id": "c159e4f1-8ab4-41e5-9b28-d7affd16d81b",
   "metadata": {},
   "source": [
    "## Optimizer"
   ]
  },
  {
   "cell_type": "code",
   "execution_count": 67,
   "id": "e14d62cc-d6fe-4f7c-b589-1522ebed724b",
   "metadata": {},
   "outputs": [],
   "source": [
    "#Define the optimizer\n",
    "opt = torch.optim.SGD(model.parameters(),lr=1e-5)"
   ]
  },
  {
   "cell_type": "markdown",
   "id": "d0551676-eda4-451a-b235-a31477778539",
   "metadata": {},
   "source": [
    "## Train the model\n",
    "\n",
    "\n",
    "\n",
    "1. Generate predictions\n",
    "\n",
    "2. Calculate the loss\n",
    "\n",
    "3. Compute gradients w.r.t the weights and biases\n",
    "\n",
    "4. Adjust the weights by subtracting a small quantity proportional to the gradient\n",
    "\n",
    "5. Reset the gradients to zero\n"
   ]
  },
  {
   "cell_type": "code",
   "execution_count": 68,
   "id": "6a16c42d-9663-489a-883d-9c388209568c",
   "metadata": {},
   "outputs": [],
   "source": [
    "#Utility function to train the model\n",
    "def fit(num_epochs, model, loss_fn, opt, traind_dl):\n",
    "    \n",
    "    #Repeat for given number of epochs\n",
    "    for epoch in range(num_epochs):\n",
    "        \n",
    "        #Train with batches of data\n",
    "        for xb, yb in train_dl:\n",
    "            \n",
    "            #Step 1\n",
    "            pred = model(xb)\n",
    "            \n",
    "            #Step 2\n",
    "            loss = loss_fn(pred,yb)\n",
    "            \n",
    "            #Step 3\n",
    "            loss.backward()\n",
    "            \n",
    "            #Step 4\n",
    "            opt.step()\n",
    "            \n",
    "            #Step 5\n",
    "            opt.zero_grad()\n",
    "            \n",
    "            #Print progress\n",
    "            if (epoch+1) % 10 == 0:\n",
    "                print('Epoch [{}/{}], Loss: {:.4f}'.format(epoch+1, num_epochs, loss.item()))"
   ]
  },
  {
   "cell_type": "code",
   "execution_count": 70,
   "id": "afee0fb4-e9f7-44f0-8cf4-dd9be47e7cb8",
   "metadata": {},
   "outputs": [
    {
     "name": "stdout",
     "output_type": "stream",
     "text": [
      "Epoch [10/100], Loss: 155.4963\n",
      "Epoch [10/100], Loss: 578.1812\n",
      "Epoch [10/100], Loss: 809.5983\n",
      "Epoch [20/100], Loss: 181.6535\n",
      "Epoch [20/100], Loss: 309.0689\n",
      "Epoch [20/100], Loss: 575.4058\n",
      "Epoch [30/100], Loss: 124.5803\n",
      "Epoch [30/100], Loss: 243.8047\n",
      "Epoch [30/100], Loss: 375.4824\n",
      "Epoch [40/100], Loss: 66.4554\n",
      "Epoch [40/100], Loss: 322.4309\n",
      "Epoch [40/100], Loss: 127.7738\n",
      "Epoch [50/100], Loss: 151.0870\n",
      "Epoch [50/100], Loss: 168.4029\n",
      "Epoch [50/100], Loss: 69.2442\n",
      "Epoch [60/100], Loss: 88.2903\n",
      "Epoch [60/100], Loss: 88.7427\n",
      "Epoch [60/100], Loss: 87.1485\n",
      "Epoch [70/100], Loss: 42.1028\n",
      "Epoch [70/100], Loss: 124.0845\n",
      "Epoch [70/100], Loss: 33.1998\n",
      "Epoch [80/100], Loss: 63.1962\n",
      "Epoch [80/100], Loss: 79.3965\n",
      "Epoch [80/100], Loss: 7.7731\n",
      "Epoch [90/100], Loss: 35.4169\n",
      "Epoch [90/100], Loss: 35.4235\n",
      "Epoch [90/100], Loss: 48.6359\n",
      "Epoch [100/100], Loss: 27.5766\n",
      "Epoch [100/100], Loss: 51.7001\n",
      "Epoch [100/100], Loss: 19.4297\n"
     ]
    }
   ],
   "source": [
    "fit(100,model,loss_fn,opt,train_dl)"
   ]
  },
  {
   "cell_type": "code",
   "execution_count": 71,
   "id": "b9dc57aa-d17c-4cbe-8dd7-8d712ced543a",
   "metadata": {},
   "outputs": [
    {
     "data": {
      "text/plain": [
       "tensor([[ 58.2303,  72.0253],\n",
       "        [ 82.0196,  97.8838],\n",
       "        [116.5449, 136.2978],\n",
       "        [ 27.4022,  47.1712],\n",
       "        [ 98.0627, 108.3020],\n",
       "        [ 57.1479,  71.0968],\n",
       "        [ 81.7922,  97.3915],\n",
       "        [116.8366, 136.6406],\n",
       "        [ 28.4847,  48.0996],\n",
       "        [ 98.9177, 108.7382],\n",
       "        [ 58.0029,  71.5330],\n",
       "        [ 80.9371,  96.9553],\n",
       "        [116.7723, 136.7901],\n",
       "        [ 26.5472,  46.7350],\n",
       "        [ 99.1452, 109.2305]], grad_fn=<AddmmBackward0>)"
      ]
     },
     "execution_count": 71,
     "metadata": {},
     "output_type": "execute_result"
    }
   ],
   "source": [
    "preds = model(inputs)\n",
    "preds"
   ]
  },
  {
   "cell_type": "code",
   "execution_count": 72,
   "id": "3ff1d1c5-980b-494c-80a8-a71188abd4a0",
   "metadata": {},
   "outputs": [
    {
     "data": {
      "text/plain": [
       "tensor([[ 56.,  70.],\n",
       "        [ 81., 101.],\n",
       "        [119., 133.],\n",
       "        [ 22.,  37.],\n",
       "        [103., 119.],\n",
       "        [ 57.,  69.],\n",
       "        [ 80., 102.],\n",
       "        [118., 132.],\n",
       "        [ 21.,  38.],\n",
       "        [104., 118.],\n",
       "        [ 57.,  69.],\n",
       "        [ 82., 100.],\n",
       "        [118., 134.],\n",
       "        [ 20.,  38.],\n",
       "        [102., 120.]])"
      ]
     },
     "execution_count": 72,
     "metadata": {},
     "output_type": "execute_result"
    }
   ],
   "source": [
    "targets"
   ]
  },
  {
   "cell_type": "code",
   "execution_count": null,
   "id": "18316ea3-fcb2-4a03-b54c-daa2258d2b66",
   "metadata": {},
   "outputs": [],
   "source": []
  }
 ],
 "metadata": {
  "kernelspec": {
   "display_name": "Python 3",
   "language": "python",
   "name": "python3"
  },
  "language_info": {
   "codemirror_mode": {
    "name": "ipython",
    "version": 3
   },
   "file_extension": ".py",
   "mimetype": "text/x-python",
   "name": "python",
   "nbconvert_exporter": "python",
   "pygments_lexer": "ipython3",
   "version": "3.8.8"
  }
 },
 "nbformat": 4,
 "nbformat_minor": 5
}
